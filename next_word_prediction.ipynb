{
 "cells": [
  {
   "cell_type": "code",
   "execution_count": 1,
   "metadata": {},
   "outputs": [],
   "source": [
    "import torch\n",
    "import torch.nn as nn\n",
    "import torch.optim as optim\n",
    "import numpy as np\n",
    "from collections import Counter\n",
    "from torch.utils.data import DataLoader, Dataset\n",
    "from nltk.tokenize import word_tokenize\n",
    "import nltk"
   ]
  },
  {
   "cell_type": "code",
   "execution_count": 2,
   "metadata": {},
   "outputs": [],
   "source": [
    "document = \"\"\"About the Program\n",
    "What is the course fee for  Data Science Mentorship Program (DSMP 2023)\n",
    "The course follows a monthly subscription model where you have to make monthly payments of Rs 799/month.\n",
    "What is the total duration of the course?\n",
    "The total duration of the course is 7 months. So the total course fee becomes 799*7 = Rs 5600(approx.)\n",
    "What is the syllabus of the mentorship program?\n",
    "We will be covering the following modules:\n",
    "Python Fundamentals\n",
    "Python libraries for Data Science\n",
    "Data Analysis\n",
    "SQL for Data Science\n",
    "Maths for Machine Learning\n",
    "ML Algorithms\n",
    "Practical ML\n",
    "MLOPs\n",
    "Case studies\n",
    "You can check the detailed syllabus here - https://learnwith.campusx.in/courses/CampusX-Data-Science-Mentorship-Program-637339afe4b0615a1bbed390\n",
    "Will Deep Learning and NLP be a part of this program?\n",
    "No, NLP and Deep Learning both are not a part of this program’s curriculum.\n",
    "What if I miss a live session? Will I get a recording of the session?\n",
    "Yes all our sessions are recorded, so even if you miss a session you can go back and watch the recording.\n",
    "Where can I find the class schedule?\n",
    "Checkout this google sheet to see month by month time table of the course - https://docs.google.com/spreadsheets/d/16OoTax_A6ORAeCg4emgexhqqPv3noQPYKU7RJ6ArOzk/edit?usp=sharing.\n",
    "What is the time duration of all the live sessions?\n",
    "Roughly, all the sessions last 2 hours.\n",
    "What is the language spoken by the instructor during the sessions?\n",
    "Hinglish\n",
    "How will I be informed about the upcoming class?\n",
    "You will get a mail from our side before every paid session once you become a paid user.\n",
    "Can I do this course if I am from a non-tech background?\n",
    "Yes, absolutely.\n",
    "I am late, can I join the program in the middle?\n",
    "Absolutely, you can join the program anytime.\n",
    "If I join/pay in the middle, will I be able to see all the past lectures?\n",
    "Yes, once you make the payment you will be able to see all the past content in your dashboard.\n",
    "Where do I have to submit the task?\n",
    "You don’t have to submit the task. We will provide you with the solutions, you have to self evaluate the task yourself.\n",
    "Will we do case studies in the program?\n",
    "Yes.\n",
    "Where can we contact you?\n",
    "You can mail us at nitish.campusx@gmail.com\n",
    "Payment/Registration related questions\n",
    "Where do we have to make our payments? Your YouTube channel or website?\n",
    "You have to make all your monthly payments on our website. Here is the link for our website - https://learnwith.campusx.in/\n",
    "Can we pay the entire amount of Rs 5600 all at once?\n",
    "Unfortunately no, the program follows a monthly subscription model.\n",
    "What is the validity of monthly subscription? Suppose if I pay on 15th Jan, then do I have to pay again on 1st Feb or 15th Feb\n",
    "15th Feb. The validity period is 30 days from the day you make the payment. So essentially you can join anytime you don’t have to wait for a month to end.\n",
    "What if I don’t like the course after making the payment. What is the refund policy?\n",
    "You get a 7 days refund period from the day you have made the payment.\n",
    "I am living outside India and I am not able to make the payment on the website, what should I do?\n",
    "You have to contact us by sending a mail at nitish.campusx@gmail.com\n",
    "Post registration queries\n",
    "Till when can I view the paid videos on the website?\n",
    "This one is tricky, so read carefully. You can watch the videos till your subscription is valid. Suppose you have purchased subscription on 21st Jan, you will be able to watch all the past paid sessions in the period of 21st Jan to 20th Feb. But after 21st Feb you will have to purchase the subscription again.\n",
    "But once the course is over and you have paid us Rs 5600(or 7 installments of Rs 799) you will be able to watch the paid sessions till Aug 2024.\n",
    "Why lifetime validity is not provided?\n",
    "Because of the low course fee.\n",
    "Where can I reach out in case of a doubt after the session?\n",
    "You will have to fill a google form provided in your dashboard and our team will contact you for a 1 on 1 doubt clearance session\n",
    "If I join the program late, can I still ask past week doubts?\n",
    "Yes, just select past week doubt in the doubt clearance google form.\n",
    "I am living outside India and I am not able to make the payment on the website, what should I do?\n",
    "You have to contact us by sending a mail at nitish.campusx@gmai.com\n",
    "Certificate and Placement Assistance related queries\n",
    "What is the criteria to get the certificate?\n",
    "There are 2 criterias:\n",
    "You have to pay the entire fee of Rs 5600\n",
    "You have to attempt all the course assessments.\n",
    "I am joining late. How can I pay payment of the earlier months?\n",
    "You will get a link to pay fee of earlier months in your dashboard once you pay for the current month.\n",
    "I have read that Placement assistance is a part of this program. What comes under Placement assistance?\n",
    "This is to clarify that Placement assistance does not mean Placement guarantee. So we dont guarantee you any jobs or for that matter even interview calls. So if you are planning to join this course just for placements, I am afraid you will be disappointed. Here is what comes under placement assistance\n",
    "Portfolio Building sessions\n",
    "Soft skill sessions\n",
    "Sessions with industry mentors\n",
    "Discussion on Job hunting strategies\n",
    "\"\"\""
   ]
  },
  {
   "cell_type": "code",
   "execution_count": 3,
   "metadata": {},
   "outputs": [
    {
     "name": "stderr",
     "output_type": "stream",
     "text": [
      "[nltk_data] Downloading package punkt to /home/swapnil/nltk_data...\n",
      "[nltk_data]   Package punkt is already up-to-date!\n",
      "[nltk_data] Downloading package punkt_tab to\n",
      "[nltk_data]     /home/swapnil/nltk_data...\n",
      "[nltk_data]   Package punkt_tab is already up-to-date!\n"
     ]
    },
    {
     "data": {
      "text/plain": [
       "True"
      ]
     },
     "execution_count": 3,
     "metadata": {},
     "output_type": "execute_result"
    }
   ],
   "source": [
    "# Tokoenize\n",
    "nltk.download(\"punkt\")\n",
    "nltk.download(\"punkt_tab\")"
   ]
  },
  {
   "cell_type": "code",
   "execution_count": 4,
   "metadata": {},
   "outputs": [],
   "source": [
    "# tokenize\n",
    "tokens = word_tokenize(document.lower())"
   ]
  },
  {
   "cell_type": "code",
   "execution_count": 5,
   "metadata": {},
   "outputs": [
    {
     "data": {
      "text/plain": [
       "{'<UNK>': 0,\n",
       " 'about': 1,\n",
       " 'the': 2,\n",
       " 'program': 3,\n",
       " 'what': 4,\n",
       " 'is': 5,\n",
       " 'course': 6,\n",
       " 'fee': 7,\n",
       " 'for': 8,\n",
       " 'data': 9,\n",
       " 'science': 10,\n",
       " 'mentorship': 11,\n",
       " '(': 12,\n",
       " 'dsmp': 13,\n",
       " '2023': 14,\n",
       " ')': 15,\n",
       " 'follows': 16,\n",
       " 'a': 17,\n",
       " 'monthly': 18,\n",
       " 'subscription': 19,\n",
       " 'model': 20,\n",
       " 'where': 21,\n",
       " 'you': 22,\n",
       " 'have': 23,\n",
       " 'to': 24,\n",
       " 'make': 25,\n",
       " 'payments': 26,\n",
       " 'of': 27,\n",
       " 'rs': 28,\n",
       " '799/month': 29,\n",
       " '.': 30,\n",
       " 'total': 31,\n",
       " 'duration': 32,\n",
       " '?': 33,\n",
       " '7': 34,\n",
       " 'months': 35,\n",
       " 'so': 36,\n",
       " 'becomes': 37,\n",
       " '799': 38,\n",
       " '*': 39,\n",
       " '=': 40,\n",
       " '5600': 41,\n",
       " 'approx': 42,\n",
       " 'syllabus': 43,\n",
       " 'we': 44,\n",
       " 'will': 45,\n",
       " 'be': 46,\n",
       " 'covering': 47,\n",
       " 'following': 48,\n",
       " 'modules': 49,\n",
       " ':': 50,\n",
       " 'python': 51,\n",
       " 'fundamentals': 52,\n",
       " 'libraries': 53,\n",
       " 'analysis': 54,\n",
       " 'sql': 55,\n",
       " 'maths': 56,\n",
       " 'machine': 57,\n",
       " 'learning': 58,\n",
       " 'ml': 59,\n",
       " 'algorithms': 60,\n",
       " 'practical': 61,\n",
       " 'mlops': 62,\n",
       " 'case': 63,\n",
       " 'studies': 64,\n",
       " 'can': 65,\n",
       " 'check': 66,\n",
       " 'detailed': 67,\n",
       " 'here': 68,\n",
       " '-': 69,\n",
       " 'https': 70,\n",
       " '//learnwith.campusx.in/courses/campusx-data-science-mentorship-program-637339afe4b0615a1bbed390': 71,\n",
       " 'deep': 72,\n",
       " 'and': 73,\n",
       " 'nlp': 74,\n",
       " 'part': 75,\n",
       " 'this': 76,\n",
       " 'no': 77,\n",
       " ',': 78,\n",
       " 'both': 79,\n",
       " 'are': 80,\n",
       " 'not': 81,\n",
       " '’': 82,\n",
       " 's': 83,\n",
       " 'curriculum': 84,\n",
       " 'if': 85,\n",
       " 'i': 86,\n",
       " 'miss': 87,\n",
       " 'live': 88,\n",
       " 'session': 89,\n",
       " 'get': 90,\n",
       " 'recording': 91,\n",
       " 'yes': 92,\n",
       " 'all': 93,\n",
       " 'our': 94,\n",
       " 'sessions': 95,\n",
       " 'recorded': 96,\n",
       " 'even': 97,\n",
       " 'go': 98,\n",
       " 'back': 99,\n",
       " 'watch': 100,\n",
       " 'find': 101,\n",
       " 'class': 102,\n",
       " 'schedule': 103,\n",
       " 'checkout': 104,\n",
       " 'google': 105,\n",
       " 'sheet': 106,\n",
       " 'see': 107,\n",
       " 'month': 108,\n",
       " 'by': 109,\n",
       " 'time': 110,\n",
       " 'table': 111,\n",
       " '//docs.google.com/spreadsheets/d/16ootax_a6oraecg4emgexhqqpv3noqpyku7rj6arozk/edit': 112,\n",
       " 'usp=sharing': 113,\n",
       " 'roughly': 114,\n",
       " 'last': 115,\n",
       " '2': 116,\n",
       " 'hours': 117,\n",
       " 'language': 118,\n",
       " 'spoken': 119,\n",
       " 'instructor': 120,\n",
       " 'during': 121,\n",
       " 'hinglish': 122,\n",
       " 'how': 123,\n",
       " 'informed': 124,\n",
       " 'upcoming': 125,\n",
       " 'mail': 126,\n",
       " 'from': 127,\n",
       " 'side': 128,\n",
       " 'before': 129,\n",
       " 'every': 130,\n",
       " 'paid': 131,\n",
       " 'once': 132,\n",
       " 'become': 133,\n",
       " 'user': 134,\n",
       " 'do': 135,\n",
       " 'am': 136,\n",
       " 'non-tech': 137,\n",
       " 'background': 138,\n",
       " 'absolutely': 139,\n",
       " 'late': 140,\n",
       " 'join': 141,\n",
       " 'in': 142,\n",
       " 'middle': 143,\n",
       " 'anytime': 144,\n",
       " 'join/pay': 145,\n",
       " 'able': 146,\n",
       " 'past': 147,\n",
       " 'lectures': 148,\n",
       " 'payment': 149,\n",
       " 'content': 150,\n",
       " 'your': 151,\n",
       " 'dashboard': 152,\n",
       " 'submit': 153,\n",
       " 'task': 154,\n",
       " 'don': 155,\n",
       " 't': 156,\n",
       " 'provide': 157,\n",
       " 'with': 158,\n",
       " 'solutions': 159,\n",
       " 'self': 160,\n",
       " 'evaluate': 161,\n",
       " 'yourself': 162,\n",
       " 'contact': 163,\n",
       " 'us': 164,\n",
       " 'at': 165,\n",
       " 'nitish.campusx': 166,\n",
       " '@': 167,\n",
       " 'gmail.com': 168,\n",
       " 'payment/registration': 169,\n",
       " 'related': 170,\n",
       " 'questions': 171,\n",
       " 'youtube': 172,\n",
       " 'channel': 173,\n",
       " 'or': 174,\n",
       " 'website': 175,\n",
       " 'on': 176,\n",
       " 'link': 177,\n",
       " '//learnwith.campusx.in/': 178,\n",
       " 'pay': 179,\n",
       " 'entire': 180,\n",
       " 'amount': 181,\n",
       " 'unfortunately': 182,\n",
       " 'validity': 183,\n",
       " 'suppose': 184,\n",
       " '15th': 185,\n",
       " 'jan': 186,\n",
       " 'then': 187,\n",
       " 'again': 188,\n",
       " '1st': 189,\n",
       " 'feb': 190,\n",
       " 'feb.': 191,\n",
       " 'period': 192,\n",
       " '30': 193,\n",
       " 'days': 194,\n",
       " 'day': 195,\n",
       " 'essentially': 196,\n",
       " 'wait': 197,\n",
       " 'end': 198,\n",
       " 'like': 199,\n",
       " 'after': 200,\n",
       " 'making': 201,\n",
       " 'refund': 202,\n",
       " 'policy': 203,\n",
       " 'made': 204,\n",
       " 'living': 205,\n",
       " 'outside': 206,\n",
       " 'india': 207,\n",
       " 'should': 208,\n",
       " 'sending': 209,\n",
       " 'post': 210,\n",
       " 'registration': 211,\n",
       " 'queries': 212,\n",
       " 'till': 213,\n",
       " 'when': 214,\n",
       " 'view': 215,\n",
       " 'videos': 216,\n",
       " 'one': 217,\n",
       " 'tricky': 218,\n",
       " 'read': 219,\n",
       " 'carefully': 220,\n",
       " 'valid': 221,\n",
       " 'purchased': 222,\n",
       " '21st': 223,\n",
       " '20th': 224,\n",
       " 'but': 225,\n",
       " 'purchase': 226,\n",
       " 'over': 227,\n",
       " 'installments': 228,\n",
       " 'aug': 229,\n",
       " '2024.': 230,\n",
       " 'why': 231,\n",
       " 'lifetime': 232,\n",
       " 'provided': 233,\n",
       " 'because': 234,\n",
       " 'low': 235,\n",
       " 'reach': 236,\n",
       " 'out': 237,\n",
       " 'doubt': 238,\n",
       " 'fill': 239,\n",
       " 'form': 240,\n",
       " 'team': 241,\n",
       " '1': 242,\n",
       " 'clearance': 243,\n",
       " 'still': 244,\n",
       " 'ask': 245,\n",
       " 'week': 246,\n",
       " 'doubts': 247,\n",
       " 'just': 248,\n",
       " 'select': 249,\n",
       " 'gmai.com': 250,\n",
       " 'certificate': 251,\n",
       " 'placement': 252,\n",
       " 'assistance': 253,\n",
       " 'criteria': 254,\n",
       " 'there': 255,\n",
       " 'criterias': 256,\n",
       " 'attempt': 257,\n",
       " 'assessments': 258,\n",
       " 'joining': 259,\n",
       " 'earlier': 260,\n",
       " 'current': 261,\n",
       " 'that': 262,\n",
       " 'comes': 263,\n",
       " 'under': 264,\n",
       " 'clarify': 265,\n",
       " 'does': 266,\n",
       " 'mean': 267,\n",
       " 'guarantee': 268,\n",
       " 'dont': 269,\n",
       " 'any': 270,\n",
       " 'jobs': 271,\n",
       " 'matter': 272,\n",
       " 'interview': 273,\n",
       " 'calls': 274,\n",
       " 'planning': 275,\n",
       " 'placements': 276,\n",
       " 'afraid': 277,\n",
       " 'disappointed': 278,\n",
       " 'portfolio': 279,\n",
       " 'building': 280,\n",
       " 'soft': 281,\n",
       " 'skill': 282,\n",
       " 'industry': 283,\n",
       " 'mentors': 284,\n",
       " 'discussion': 285,\n",
       " 'job': 286,\n",
       " 'hunting': 287,\n",
       " 'strategies': 288}"
      ]
     },
     "execution_count": 5,
     "metadata": {},
     "output_type": "execute_result"
    }
   ],
   "source": [
    "# build vocab\n",
    "vocab = {\"<UNK>\": 0}\n",
    "\n",
    "for token in Counter(tokens).keys():\n",
    "    if token not in vocab:\n",
    "        vocab[token] = len(vocab)\n",
    "vocab"
   ]
  },
  {
   "cell_type": "code",
   "execution_count": 6,
   "metadata": {},
   "outputs": [],
   "source": [
    "input_sentenses = document.split(\"\\n\")"
   ]
  },
  {
   "cell_type": "code",
   "execution_count": 7,
   "metadata": {},
   "outputs": [],
   "source": [
    "def text_to_indices(sentence, vocab):\n",
    "    numerical_sentence = []\n",
    "\n",
    "    for token in sentence:\n",
    "        if token in vocab:\n",
    "            numerical_sentence.append(vocab[token])\n",
    "        else:\n",
    "            numerical_sentence.append(vocab[\"<UNK>\"])\n",
    "    return numerical_sentence"
   ]
  },
  {
   "cell_type": "code",
   "execution_count": 8,
   "metadata": {},
   "outputs": [],
   "source": [
    "input_numerical_sentence = []\n",
    "for sentence in input_sentenses:\n",
    "    input_numerical_sentence.append(\n",
    "        text_to_indices(word_tokenize(sentence.lower()), vocab)\n",
    "    )"
   ]
  },
  {
   "cell_type": "code",
   "execution_count": 9,
   "metadata": {},
   "outputs": [
    {
     "data": {
      "text/plain": [
       "78"
      ]
     },
     "execution_count": 9,
     "metadata": {},
     "output_type": "execute_result"
    }
   ],
   "source": [
    "len(input_numerical_sentence)"
   ]
  },
  {
   "cell_type": "code",
   "execution_count": 10,
   "metadata": {},
   "outputs": [],
   "source": [
    "training_sequence = []\n",
    "for sentence in input_numerical_sentence:\n",
    "    for i in range(1, len(sentence)):\n",
    "        training_sequence.append(sentence[: i + 1])"
   ]
  },
  {
   "cell_type": "code",
   "execution_count": 11,
   "metadata": {},
   "outputs": [
    {
     "data": {
      "text/plain": [
       "942"
      ]
     },
     "execution_count": 11,
     "metadata": {},
     "output_type": "execute_result"
    }
   ],
   "source": [
    "len(training_sequence)"
   ]
  },
  {
   "cell_type": "code",
   "execution_count": 12,
   "metadata": {},
   "outputs": [
    {
     "data": {
      "text/plain": [
       "[[1, 2], [1, 2, 3], [4, 5], [4, 5, 2], [4, 5, 2, 6]]"
      ]
     },
     "execution_count": 12,
     "metadata": {},
     "output_type": "execute_result"
    }
   ],
   "source": [
    "training_sequence[:5]"
   ]
  },
  {
   "cell_type": "code",
   "execution_count": 13,
   "metadata": {},
   "outputs": [
    {
     "data": {
      "text/plain": [
       "62"
      ]
     },
     "execution_count": 13,
     "metadata": {},
     "output_type": "execute_result"
    }
   ],
   "source": [
    "len_list = []\n",
    "for sequence in training_sequence:\n",
    "    len_list.append(len(sequence))\n",
    "max(len_list)"
   ]
  },
  {
   "cell_type": "code",
   "execution_count": 14,
   "metadata": {},
   "outputs": [],
   "source": [
    "# padding\n",
    "padded_training_sequence = []\n",
    "for sequence in training_sequence:\n",
    "    padded_training_sequence.append([0] * (max(len_list) - len(sequence)) + sequence)"
   ]
  },
  {
   "cell_type": "code",
   "execution_count": 15,
   "metadata": {},
   "outputs": [
    {
     "data": {
      "text/plain": [
       "62"
      ]
     },
     "execution_count": 15,
     "metadata": {},
     "output_type": "execute_result"
    }
   ],
   "source": [
    "len(padded_training_sequence[1])"
   ]
  },
  {
   "cell_type": "code",
   "execution_count": 16,
   "metadata": {},
   "outputs": [],
   "source": [
    "# convert into tensor\n",
    "padded_training_sequence = torch.tensor(padded_training_sequence, dtype=torch.long)"
   ]
  },
  {
   "cell_type": "code",
   "execution_count": 17,
   "metadata": {},
   "outputs": [
    {
     "data": {
      "text/plain": [
       "torch.Size([942, 62])"
      ]
     },
     "execution_count": 17,
     "metadata": {},
     "output_type": "execute_result"
    }
   ],
   "source": [
    "padded_training_sequence.shape"
   ]
  },
  {
   "cell_type": "code",
   "execution_count": 18,
   "metadata": {},
   "outputs": [],
   "source": [
    "# create a training dataset\n",
    "X = padded_training_sequence[:, :-1]\n",
    "Y = padded_training_sequence[:, -1]"
   ]
  },
  {
   "cell_type": "code",
   "execution_count": 39,
   "metadata": {},
   "outputs": [],
   "source": [
    "# load cusotme dataset\n",
    "\n",
    "\n",
    "class CustomeDataset(Dataset):\n",
    "    def __init__(self, X, y):\n",
    "        self.X = X\n",
    "        self.y = y\n",
    "\n",
    "    def __len__(self):\n",
    "        return self.X.shape[0]\n",
    "\n",
    "    def __getitem__(self, index):\n",
    "        return self.X[index], self.y[index]"
   ]
  },
  {
   "cell_type": "code",
   "execution_count": 40,
   "metadata": {},
   "outputs": [],
   "source": [
    "dataset = CustomeDataset(X, Y)"
   ]
  },
  {
   "cell_type": "code",
   "execution_count": 41,
   "metadata": {},
   "outputs": [
    {
     "data": {
      "text/plain": [
       "942"
      ]
     },
     "execution_count": 41,
     "metadata": {},
     "output_type": "execute_result"
    }
   ],
   "source": [
    "len(dataset)"
   ]
  },
  {
   "cell_type": "code",
   "execution_count": 42,
   "metadata": {},
   "outputs": [],
   "source": [
    "dataloader = DataLoader(dataset, batch_size=32, shuffle=True)"
   ]
  },
  {
   "cell_type": "code",
   "execution_count": 49,
   "metadata": {},
   "outputs": [],
   "source": [
    "# Build NN\n",
    "\n",
    "\n",
    "class LSTMModel(nn.Module):\n",
    "    def __init__(self, vocab_size):\n",
    "        super().__init__()\n",
    "        self.embedding = nn.Embedding(vocab_size, 100)\n",
    "        self.lstm = nn.LSTM(100, 150, batch_first=True)\n",
    "        self.fc = nn.Linear(150, vocab_size)\n",
    "\n",
    "    def forward(self, x):\n",
    "        embedded = self.embedding(x)\n",
    "        intermidiate_hidden_states, (final_hidden_state, final_cell_state) = self.lstm(\n",
    "            embedded\n",
    "        )\n",
    "        output = self.fc(final_hidden_state.squeeze(0))\n",
    "        return output"
   ]
  },
  {
   "cell_type": "code",
   "execution_count": 50,
   "metadata": {},
   "outputs": [],
   "source": [
    "model = LSTMModel(len(vocab))"
   ]
  },
  {
   "cell_type": "code",
   "execution_count": 51,
   "metadata": {},
   "outputs": [],
   "source": [
    "device = torch.device(\"cuda\" if torch.cuda.is_available() else \"cpu\")"
   ]
  },
  {
   "cell_type": "code",
   "execution_count": 52,
   "metadata": {},
   "outputs": [
    {
     "data": {
      "text/plain": [
       "LSTMModel(\n",
       "  (embedding): Embedding(289, 100)\n",
       "  (lstm): LSTM(100, 150, batch_first=True)\n",
       "  (fc): Linear(in_features=150, out_features=289, bias=True)\n",
       ")"
      ]
     },
     "execution_count": 52,
     "metadata": {},
     "output_type": "execute_result"
    }
   ],
   "source": [
    "model.to(device)"
   ]
  },
  {
   "cell_type": "code",
   "execution_count": 53,
   "metadata": {},
   "outputs": [],
   "source": [
    "epochs = 50\n",
    "learning_rate = 0.001\n",
    "\n",
    "criterion = nn.CrossEntropyLoss()\n",
    "optimizer = optim.Adam(model.parameters(), lr=learning_rate)"
   ]
  },
  {
   "cell_type": "code",
   "execution_count": 54,
   "metadata": {},
   "outputs": [
    {
     "name": "stdout",
     "output_type": "stream",
     "text": [
      "Epoch: 1, Loss: 165.7972\n",
      "Epoch: 2, Loss: 145.7870\n",
      "Epoch: 3, Loss: 133.2751\n",
      "Epoch: 4, Loss: 120.6015\n",
      "Epoch: 5, Loss: 107.9242\n",
      "Epoch: 6, Loss: 96.6128\n",
      "Epoch: 7, Loss: 86.2675\n",
      "Epoch: 8, Loss: 76.2321\n",
      "Epoch: 9, Loss: 67.5026\n",
      "Epoch: 10, Loss: 59.6804\n",
      "Epoch: 11, Loss: 52.5681\n",
      "Epoch: 12, Loss: 46.0532\n",
      "Epoch: 13, Loss: 40.6756\n",
      "Epoch: 14, Loss: 35.5193\n",
      "Epoch: 15, Loss: 31.4098\n",
      "Epoch: 16, Loss: 27.6275\n",
      "Epoch: 17, Loss: 24.3851\n",
      "Epoch: 18, Loss: 21.7581\n",
      "Epoch: 19, Loss: 19.1627\n",
      "Epoch: 20, Loss: 17.1449\n",
      "Epoch: 21, Loss: 15.4163\n",
      "Epoch: 22, Loss: 13.9645\n",
      "Epoch: 23, Loss: 12.7784\n",
      "Epoch: 24, Loss: 11.6302\n",
      "Epoch: 25, Loss: 10.9092\n",
      "Epoch: 26, Loss: 10.3409\n",
      "Epoch: 27, Loss: 9.3392\n",
      "Epoch: 28, Loss: 8.7951\n",
      "Epoch: 29, Loss: 8.2851\n",
      "Epoch: 30, Loss: 7.8281\n",
      "Epoch: 31, Loss: 7.3430\n",
      "Epoch: 32, Loss: 7.0858\n",
      "Epoch: 33, Loss: 6.8669\n",
      "Epoch: 34, Loss: 6.4900\n",
      "Epoch: 35, Loss: 6.3219\n",
      "Epoch: 36, Loss: 6.0134\n",
      "Epoch: 37, Loss: 5.9195\n",
      "Epoch: 38, Loss: 5.5352\n",
      "Epoch: 39, Loss: 5.4558\n",
      "Epoch: 40, Loss: 5.4620\n",
      "Epoch: 41, Loss: 5.2762\n",
      "Epoch: 42, Loss: 5.2276\n",
      "Epoch: 43, Loss: 5.0065\n",
      "Epoch: 44, Loss: 4.8360\n",
      "Epoch: 45, Loss: 4.8264\n",
      "Epoch: 46, Loss: 4.6386\n",
      "Epoch: 47, Loss: 4.5639\n",
      "Epoch: 48, Loss: 4.5134\n",
      "Epoch: 49, Loss: 4.4568\n",
      "Epoch: 50, Loss: 4.3659\n"
     ]
    }
   ],
   "source": [
    "# training loop\n",
    "for epoch in range(epochs):\n",
    "    total_loss = 0\n",
    "\n",
    "    for batch_x, batch_y in dataloader:\n",
    "        batch_x, batch_y = batch_x.to(device), batch_y.to(device)\n",
    "\n",
    "        optimizer.zero_grad()\n",
    "\n",
    "        output = model(batch_x)\n",
    "\n",
    "        loss = criterion(output, batch_y)\n",
    "\n",
    "        loss.backward()\n",
    "\n",
    "        optimizer.step()\n",
    "\n",
    "        total_loss += loss.item()\n",
    "    print(f\"Epoch: {epoch+1}, Loss: {total_loss:.4f}\")"
   ]
  },
  {
   "cell_type": "code",
   "execution_count": 58,
   "metadata": {},
   "outputs": [],
   "source": [
    "# Prediction\n",
    "\n",
    "\n",
    "def prediction(model, vocab, text):\n",
    "\n",
    "    # tokenize\n",
    "    tokenized_text = word_tokenize(text=text.lower())\n",
    "\n",
    "    # text -> numerical indices\n",
    "    numerical_text = text_to_indices(tokenized_text, vocab)\n",
    "\n",
    "    # padding\n",
    "    padded_text = (\n",
    "        torch.tensor(\n",
    "            [0] * (61 - len(numerical_text)) + numerical_text, dtype=torch.long\n",
    "        )\n",
    "        .unsqueeze(0)\n",
    "        .to(device)\n",
    "    )\n",
    "\n",
    "    # send to model\n",
    "    output = model(padded_text)\n",
    "\n",
    "    # predict index\n",
    "    value, index = torch.max(output, dim=1)\n",
    "\n",
    "    # merge with text\n",
    "    return text + \" \" + list(vocab.keys())[index]"
   ]
  },
  {
   "cell_type": "code",
   "execution_count": 59,
   "metadata": {},
   "outputs": [
    {
     "data": {
      "text/plain": [
       "'The course follows a monthly subscription'"
      ]
     },
     "execution_count": 59,
     "metadata": {},
     "output_type": "execute_result"
    }
   ],
   "source": [
    "prediction(model, vocab, \"The course follows a monthly\")"
   ]
  },
  {
   "cell_type": "code",
   "execution_count": 61,
   "metadata": {},
   "outputs": [
    {
     "name": "stdout",
     "output_type": "stream",
     "text": [
      "hi how are 2\n",
      "hi how are 2 criterias\n",
      "hi how are 2 criterias :\n",
      "hi how are 2 criterias : get\n",
      "hi how are 2 criterias : get a\n",
      "hi how are 2 criterias : get a part\n",
      "hi how are 2 criterias : get a part of\n",
      "hi how are 2 criterias : get a part of this\n",
      "hi how are 2 criterias : get a part of this program\n",
      "hi how are 2 criterias : get a part of this program ?\n"
     ]
    }
   ],
   "source": [
    "import time\n",
    "\n",
    "num_token = 10\n",
    "input_text = \"hi how are\"\n",
    "\n",
    "for i in range(num_token):\n",
    "    output_text = prediction(model, vocab, input_text)\n",
    "    print(output_text)\n",
    "    input_text = output_text\n",
    "    time.sleep(0.5)"
   ]
  },
  {
   "cell_type": "code",
   "execution_count": 62,
   "metadata": {},
   "outputs": [],
   "source": [
    "dataloader1 = DataLoader(dataset, batch_size=32, shuffle=False)"
   ]
  },
  {
   "cell_type": "code",
   "execution_count": 63,
   "metadata": {},
   "outputs": [],
   "source": [
    "# calculate accuracy\n",
    "def calculate_accuracy(model, dataloader, device):\n",
    "    model.eval()\n",
    "    correct = 0\n",
    "    total = 0\n",
    "\n",
    "    with torch.no_grad():\n",
    "        for batch_x, batch_y in dataloader1:\n",
    "            batch_x, batch_y = batch_x.to(device), batch_y.to(device)\n",
    "\n",
    "            # Get model prediction\n",
    "            outputs = model(batch_x)\n",
    "\n",
    "            # Get the predicted word indices\n",
    "            _, predicted = torch.max(outputs, dim=1)\n",
    "\n",
    "            # comapre with actual result\n",
    "            correct += (predicted == batch_y).sum().item()\n",
    "            total += batch_y.size(0)\n",
    "    accuracy = correct / total * 100\n",
    "    return accuracy"
   ]
  },
  {
   "cell_type": "code",
   "execution_count": 64,
   "metadata": {},
   "outputs": [
    {
     "name": "stdout",
     "output_type": "stream",
     "text": [
      "Model Accuracy: 95.65%\n"
     ]
    }
   ],
   "source": [
    "# Compute accuracy\n",
    "accuracy = calculate_accuracy(model, dataloader, device)\n",
    "print(f\"Model Accuracy: {accuracy:.2f}%\")"
   ]
  },
  {
   "cell_type": "code",
   "execution_count": null,
   "metadata": {},
   "outputs": [],
   "source": []
  }
 ],
 "metadata": {
  "kernelspec": {
   "display_name": "torch",
   "language": "python",
   "name": "python3"
  },
  "language_info": {
   "codemirror_mode": {
    "name": "ipython",
    "version": 3
   },
   "file_extension": ".py",
   "mimetype": "text/x-python",
   "name": "python",
   "nbconvert_exporter": "python",
   "pygments_lexer": "ipython3",
   "version": "3.10.16"
  }
 },
 "nbformat": 4,
 "nbformat_minor": 2
}
